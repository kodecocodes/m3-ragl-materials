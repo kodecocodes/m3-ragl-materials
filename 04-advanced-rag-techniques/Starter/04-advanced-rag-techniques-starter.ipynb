{
 "cells": [
  {
   "cell_type": "code",
   "execution_count": null,
   "id": "499c520d-fb70-4edc-82d8-1ac08547187b",
   "metadata": {},
   "outputs": [],
   "source": [
    "# Set up a User Agent for this session\n",
    "import os\n",
    "\n",
    "os.environ['USER_AGENT'] = 'sports-buddy-advanced'"
   ]
  },
  {
   "cell_type": "code",
   "execution_count": null,
   "id": "0ed840b5-85c4-41b2-a20d-16dd9e0ab504",
   "metadata": {},
   "outputs": [],
   "source": [
    "# Initialize an OpenAI model\n",
    "from langchain_openai import ChatOpenAI\n",
    "\n",
    "llm = ChatOpenAI(model=\"gpt-4o-mini\")"
   ]
  },
  {
   "cell_type": "code",
   "execution_count": null,
   "id": "9aeab91b-039f-4ea6-a10d-f4fb63a3c8b2",
   "metadata": {},
   "outputs": [],
   "source": [
    "from langchain_chroma import Chroma\n",
    "from langchain_community.document_loaders import WikipediaLoader\n",
    "from langchain_openai import OpenAIEmbeddings\n",
    "from langchain_text_splitters import RecursiveCharacterTextSplitter\n",
    "\n",
    "loader = WikipediaLoader(\"2024_Summer_Olympics\",)\n",
    "docs = loader.load()"
   ]
  },
  {
   "cell_type": "code",
   "execution_count": null,
   "id": "377284e5-5c1c-4499-aaeb-48e24a1074bc",
   "metadata": {},
   "outputs": [],
   "source": [
    "text_splitter = RecursiveCharacterTextSplitter(chunk_size=1000, chunk_overlap=0)\n",
    "splits = text_splitter.split_documents(docs)\n",
    "\n",
    "database = Chroma.from_documents(documents=splits, embedding=OpenAIEmbeddings())\n",
    "\n",
    "# TODO: Increase the value of 'k' to retrieve more documents\n",
    "retriever = database.as_retriever()\n",
    "\n",
    "retriever.invoke(\"How was security during the 2024 Olympics\")"
   ]
  }
 ],
 "metadata": {
  "kernelspec": {
   "display_name": "Python 3 (ipykernel)",
   "language": "python",
   "name": "python3"
  },
  "language_info": {
   "codemirror_mode": {
    "name": "ipython",
    "version": 3
   },
   "file_extension": ".py",
   "mimetype": "text/x-python",
   "name": "python",
   "nbconvert_exporter": "python",
   "pygments_lexer": "ipython3",
   "version": "3.12.2"
  }
 },
 "nbformat": 4,
 "nbformat_minor": 5
}

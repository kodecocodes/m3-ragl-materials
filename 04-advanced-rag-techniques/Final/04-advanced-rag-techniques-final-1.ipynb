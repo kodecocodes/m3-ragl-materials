{
 "cells": [
  {
   "cell_type": "code",
   "execution_count": 1,
   "id": "499c520d-fb70-4edc-82d8-1ac08547187b",
   "metadata": {},
   "outputs": [],
   "source": [
    "# Set up a User Agent for this session\n",
    "import os\n",
    "\n",
    "os.environ['USER_AGENT'] = 'sports-buddy-advanced'"
   ]
  },
  {
   "cell_type": "code",
   "execution_count": 2,
   "id": "0ed840b5-85c4-41b2-a20d-16dd9e0ab504",
   "metadata": {},
   "outputs": [],
   "source": [
    "# Initialize an OpenAI model\n",
    "from langchain_openai import ChatOpenAI\n",
    "\n",
    "llm = ChatOpenAI(model=\"gpt-4o-mini\")"
   ]
  },
  {
   "cell_type": "code",
   "execution_count": 3,
   "id": "9aeab91b-039f-4ea6-a10d-f4fb63a3c8b2",
   "metadata": {},
   "outputs": [],
   "source": [
    "from langchain_chroma import Chroma\n",
    "from langchain_community.document_loaders import WikipediaLoader\n",
    "from langchain_openai import OpenAIEmbeddings\n",
    "from langchain_text_splitters import RecursiveCharacterTextSplitter\n",
    "\n",
    "loader = WikipediaLoader(\"2024_Summer_Olympics\",)\n",
    "docs = loader.load()"
   ]
  },
  {
   "cell_type": "code",
   "execution_count": 4,
   "id": "377284e5-5c1c-4499-aaeb-48e24a1074bc",
   "metadata": {},
   "outputs": [
    {
     "data": {
      "text/plain": [
       "[Document(metadata={'source': 'https://en.wikipedia.org/wiki/Concerns_and_controversies_at_the_2024_Summer_Olympics', 'summary': 'Various concerns and controversies arose in relation to the 2024 Summer Olympics, including security concerns, human rights issues, and controversy over allowing Israel to participate amidst the Israel–Hamas war, and allowing Russian and Belarusian athletes to compete as neutrals amidst the Russian invasion of Ukraine. Despite the nominal Olympic Truce in place, the wars in Ukraine and Palestine already set a more conflicted political background to the 2024 Summer Olympics, before considering domestic and sporting issues.\\n\\n', 'title': 'Concerns and controversies at the 2024 Summer Olympics'}, page_content='Various concerns and controversies arose in relation to the 2024 Summer Olympics, including security concerns, human rights issues, and controversy over allowing Israel to participate amidst the Israel–Hamas war, and allowing Russian and Belarusian athletes to compete as neutrals amidst the Russian invasion of Ukraine. Despite the nominal Olympic Truce in place, the wars in Ukraine and Palestine already set a more conflicted political background to the 2024 Summer Olympics, before considering domestic and sporting issues.\\n\\n\\n== Domestic organisational issues and controversies ==')]"
      ]
     },
     "execution_count": 4,
     "metadata": {},
     "output_type": "execute_result"
    }
   ],
   "source": [
    "text_splitter = RecursiveCharacterTextSplitter(chunk_size=1000, chunk_overlap=0)\n",
    "splits = text_splitter.split_documents(docs)\n",
    "\n",
    "database = Chroma.from_documents(documents=splits, embedding=OpenAIEmbeddings())\n",
    "\n",
    "# TODO: Increase the value of 'k' to retrieve more documents\n",
    "retriever = database.as_retriever(search_kwargs={\"k\": 1})\n",
    "\n",
    "retriever.invoke(\"How was security during the 2024 Olympics\")"
   ]
  },
  {
   "cell_type": "code",
   "execution_count": 5,
   "id": "517b7dd1-74a7-455f-a2d6-310862fe9177",
   "metadata": {},
   "outputs": [
    {
     "data": {
      "text/plain": [
       "[Document(metadata={'source': 'https://en.wikipedia.org/wiki/Concerns_and_controversies_at_the_2024_Summer_Olympics', 'summary': 'Various concerns and controversies arose in relation to the 2024 Summer Olympics, including security concerns, human rights issues, and controversy over allowing Israel to participate amidst the Israel–Hamas war, and allowing Russian and Belarusian athletes to compete as neutrals amidst the Russian invasion of Ukraine. Despite the nominal Olympic Truce in place, the wars in Ukraine and Palestine already set a more conflicted political background to the 2024 Summer Olympics, before considering domestic and sporting issues.\\n\\n', 'title': 'Concerns and controversies at the 2024 Summer Olympics'}, page_content='Various concerns and controversies arose in relation to the 2024 Summer Olympics, including security concerns, human rights issues, and controversy over allowing Israel to participate amidst the Israel–Hamas war, and allowing Russian and Belarusian athletes to compete as neutrals amidst the Russian invasion of Ukraine.')]"
      ]
     },
     "execution_count": 5,
     "metadata": {},
     "output_type": "execute_result"
    }
   ],
   "source": [
    "from langchain.retrievers import ContextualCompressionRetriever\n",
    "from langchain.retrievers.document_compressors import LLMChainExtractor\n",
    "\n",
    "compressor = LLMChainExtractor.from_llm(llm)\n",
    "compression_retriever = ContextualCompressionRetriever(\n",
    "    base_compressor=compressor, base_retriever=retriever\n",
    ")\n",
    "\n",
    "compressed_docs = compression_retriever.invoke(\n",
    "    \"How was security during the 2024 Olympics\"\n",
    ")\n",
    "\n",
    "compressed_docs"
   ]
  },
  {
   "cell_type": "code",
   "execution_count": 6,
   "id": "132dc198-fa2f-4e06-b7d2-36841b117099",
   "metadata": {},
   "outputs": [
    {
     "name": "stdout",
     "output_type": "stream",
     "text": [
      "Requirement already satisfied: langchain-cohere in /opt/anaconda3/lib/python3.12/site-packages (0.2.4)\n",
      "Requirement already satisfied: cohere<6.0,>=5.5.6 in /opt/anaconda3/lib/python3.12/site-packages (from langchain-cohere) (5.9.1)\n",
      "Requirement already satisfied: langchain-core<0.3,>=0.2.33 in /opt/anaconda3/lib/python3.12/site-packages (from langchain-cohere) (0.2.38)\n",
      "Requirement already satisfied: langchain-experimental>=0.0.6 in /opt/anaconda3/lib/python3.12/site-packages (from langchain-cohere) (0.0.65)\n",
      "Requirement already satisfied: pandas>=1.4.3 in /opt/anaconda3/lib/python3.12/site-packages (from langchain-cohere) (2.2.2)\n",
      "Requirement already satisfied: tabulate<0.10.0,>=0.9.0 in /opt/anaconda3/lib/python3.12/site-packages (from langchain-cohere) (0.9.0)\n",
      "Requirement already satisfied: boto3<2.0.0,>=1.34.0 in /opt/anaconda3/lib/python3.12/site-packages (from cohere<6.0,>=5.5.6->langchain-cohere) (1.35.14)\n",
      "Requirement already satisfied: fastavro<2.0.0,>=1.9.4 in /opt/anaconda3/lib/python3.12/site-packages (from cohere<6.0,>=5.5.6->langchain-cohere) (1.9.7)\n",
      "Requirement already satisfied: httpx>=0.21.2 in /opt/anaconda3/lib/python3.12/site-packages (from cohere<6.0,>=5.5.6->langchain-cohere) (0.27.0)\n",
      "Requirement already satisfied: httpx-sse==0.4.0 in /opt/anaconda3/lib/python3.12/site-packages (from cohere<6.0,>=5.5.6->langchain-cohere) (0.4.0)\n",
      "Requirement already satisfied: parameterized<0.10.0,>=0.9.0 in /opt/anaconda3/lib/python3.12/site-packages (from cohere<6.0,>=5.5.6->langchain-cohere) (0.9.0)\n",
      "Requirement already satisfied: pydantic>=1.9.2 in /opt/anaconda3/lib/python3.12/site-packages (from cohere<6.0,>=5.5.6->langchain-cohere) (2.9.1)\n",
      "Requirement already satisfied: pydantic-core<3.0.0,>=2.18.2 in /opt/anaconda3/lib/python3.12/site-packages (from cohere<6.0,>=5.5.6->langchain-cohere) (2.23.3)\n",
      "Requirement already satisfied: requests<3.0.0,>=2.0.0 in /opt/anaconda3/lib/python3.12/site-packages (from cohere<6.0,>=5.5.6->langchain-cohere) (2.32.2)\n",
      "Requirement already satisfied: tokenizers<1,>=0.15 in /opt/anaconda3/lib/python3.12/site-packages (from cohere<6.0,>=5.5.6->langchain-cohere) (0.19.1)\n",
      "Requirement already satisfied: types-requests<3.0.0,>=2.0.0 in /opt/anaconda3/lib/python3.12/site-packages (from cohere<6.0,>=5.5.6->langchain-cohere) (2.32.0.20240712)\n",
      "Requirement already satisfied: typing_extensions>=4.0.0 in /opt/anaconda3/lib/python3.12/site-packages (from cohere<6.0,>=5.5.6->langchain-cohere) (4.11.0)\n",
      "Requirement already satisfied: PyYAML>=5.3 in /opt/anaconda3/lib/python3.12/site-packages (from langchain-core<0.3,>=0.2.33->langchain-cohere) (6.0.1)\n",
      "Requirement already satisfied: jsonpatch<2.0,>=1.33 in /opt/anaconda3/lib/python3.12/site-packages (from langchain-core<0.3,>=0.2.33->langchain-cohere) (1.33)\n",
      "Requirement already satisfied: langsmith<0.2.0,>=0.1.75 in /opt/anaconda3/lib/python3.12/site-packages (from langchain-core<0.3,>=0.2.33->langchain-cohere) (0.1.96)\n",
      "Requirement already satisfied: packaging<25,>=23.2 in /opt/anaconda3/lib/python3.12/site-packages (from langchain-core<0.3,>=0.2.33->langchain-cohere) (23.2)\n",
      "Requirement already satisfied: tenacity!=8.4.0,<9.0.0,>=8.1.0 in /opt/anaconda3/lib/python3.12/site-packages (from langchain-core<0.3,>=0.2.33->langchain-cohere) (8.5.0)\n",
      "Requirement already satisfied: langchain-community<0.3.0,>=0.2.16 in /opt/anaconda3/lib/python3.12/site-packages (from langchain-experimental>=0.0.6->langchain-cohere) (0.2.16)\n",
      "Requirement already satisfied: numpy>=1.26.0 in /opt/anaconda3/lib/python3.12/site-packages (from pandas>=1.4.3->langchain-cohere) (1.26.4)\n",
      "Requirement already satisfied: python-dateutil>=2.8.2 in /opt/anaconda3/lib/python3.12/site-packages (from pandas>=1.4.3->langchain-cohere) (2.9.0.post0)\n",
      "Requirement already satisfied: pytz>=2020.1 in /opt/anaconda3/lib/python3.12/site-packages (from pandas>=1.4.3->langchain-cohere) (2024.1)\n",
      "Requirement already satisfied: tzdata>=2022.7 in /opt/anaconda3/lib/python3.12/site-packages (from pandas>=1.4.3->langchain-cohere) (2023.3)\n",
      "Requirement already satisfied: botocore<1.36.0,>=1.35.14 in /opt/anaconda3/lib/python3.12/site-packages (from boto3<2.0.0,>=1.34.0->cohere<6.0,>=5.5.6->langchain-cohere) (1.35.14)\n",
      "Requirement already satisfied: jmespath<2.0.0,>=0.7.1 in /opt/anaconda3/lib/python3.12/site-packages (from boto3<2.0.0,>=1.34.0->cohere<6.0,>=5.5.6->langchain-cohere) (1.0.1)\n",
      "Requirement already satisfied: s3transfer<0.11.0,>=0.10.0 in /opt/anaconda3/lib/python3.12/site-packages (from boto3<2.0.0,>=1.34.0->cohere<6.0,>=5.5.6->langchain-cohere) (0.10.2)\n",
      "Requirement already satisfied: anyio in /opt/anaconda3/lib/python3.12/site-packages (from httpx>=0.21.2->cohere<6.0,>=5.5.6->langchain-cohere) (4.2.0)\n",
      "Requirement already satisfied: certifi in /opt/anaconda3/lib/python3.12/site-packages (from httpx>=0.21.2->cohere<6.0,>=5.5.6->langchain-cohere) (2024.7.4)\n",
      "Requirement already satisfied: httpcore==1.* in /opt/anaconda3/lib/python3.12/site-packages (from httpx>=0.21.2->cohere<6.0,>=5.5.6->langchain-cohere) (1.0.5)\n",
      "Requirement already satisfied: idna in /opt/anaconda3/lib/python3.12/site-packages (from httpx>=0.21.2->cohere<6.0,>=5.5.6->langchain-cohere) (3.7)\n",
      "Requirement already satisfied: sniffio in /opt/anaconda3/lib/python3.12/site-packages (from httpx>=0.21.2->cohere<6.0,>=5.5.6->langchain-cohere) (1.3.0)\n",
      "Requirement already satisfied: h11<0.15,>=0.13 in /opt/anaconda3/lib/python3.12/site-packages (from httpcore==1.*->httpx>=0.21.2->cohere<6.0,>=5.5.6->langchain-cohere) (0.14.0)\n",
      "Requirement already satisfied: jsonpointer>=1.9 in /opt/anaconda3/lib/python3.12/site-packages (from jsonpatch<2.0,>=1.33->langchain-core<0.3,>=0.2.33->langchain-cohere) (2.1)\n",
      "Requirement already satisfied: SQLAlchemy<3,>=1.4 in /opt/anaconda3/lib/python3.12/site-packages (from langchain-community<0.3.0,>=0.2.16->langchain-experimental>=0.0.6->langchain-cohere) (2.0.30)\n",
      "Requirement already satisfied: aiohttp<4.0.0,>=3.8.3 in /opt/anaconda3/lib/python3.12/site-packages (from langchain-community<0.3.0,>=0.2.16->langchain-experimental>=0.0.6->langchain-cohere) (3.9.5)\n",
      "Requirement already satisfied: dataclasses-json<0.7,>=0.5.7 in /opt/anaconda3/lib/python3.12/site-packages (from langchain-community<0.3.0,>=0.2.16->langchain-experimental>=0.0.6->langchain-cohere) (0.6.7)\n",
      "Requirement already satisfied: langchain<0.3.0,>=0.2.16 in /opt/anaconda3/lib/python3.12/site-packages (from langchain-community<0.3.0,>=0.2.16->langchain-experimental>=0.0.6->langchain-cohere) (0.2.16)\n",
      "Requirement already satisfied: orjson<4.0.0,>=3.9.14 in /opt/anaconda3/lib/python3.12/site-packages (from langsmith<0.2.0,>=0.1.75->langchain-core<0.3,>=0.2.33->langchain-cohere) (3.10.6)\n",
      "Requirement already satisfied: annotated-types>=0.6.0 in /opt/anaconda3/lib/python3.12/site-packages (from pydantic>=1.9.2->cohere<6.0,>=5.5.6->langchain-cohere) (0.6.0)\n",
      "Requirement already satisfied: six>=1.5 in /opt/anaconda3/lib/python3.12/site-packages (from python-dateutil>=2.8.2->pandas>=1.4.3->langchain-cohere) (1.16.0)\n",
      "Requirement already satisfied: charset-normalizer<4,>=2 in /opt/anaconda3/lib/python3.12/site-packages (from requests<3.0.0,>=2.0.0->cohere<6.0,>=5.5.6->langchain-cohere) (3.3.2)\n",
      "Requirement already satisfied: urllib3<3,>=1.21.1 in /opt/anaconda3/lib/python3.12/site-packages (from requests<3.0.0,>=2.0.0->cohere<6.0,>=5.5.6->langchain-cohere) (2.2.2)\n",
      "Requirement already satisfied: huggingface-hub<1.0,>=0.16.4 in /opt/anaconda3/lib/python3.12/site-packages (from tokenizers<1,>=0.15->cohere<6.0,>=5.5.6->langchain-cohere) (0.24.5)\n",
      "Requirement already satisfied: aiosignal>=1.1.2 in /opt/anaconda3/lib/python3.12/site-packages (from aiohttp<4.0.0,>=3.8.3->langchain-community<0.3.0,>=0.2.16->langchain-experimental>=0.0.6->langchain-cohere) (1.2.0)\n",
      "Requirement already satisfied: attrs>=17.3.0 in /opt/anaconda3/lib/python3.12/site-packages (from aiohttp<4.0.0,>=3.8.3->langchain-community<0.3.0,>=0.2.16->langchain-experimental>=0.0.6->langchain-cohere) (23.1.0)\n",
      "Requirement already satisfied: frozenlist>=1.1.1 in /opt/anaconda3/lib/python3.12/site-packages (from aiohttp<4.0.0,>=3.8.3->langchain-community<0.3.0,>=0.2.16->langchain-experimental>=0.0.6->langchain-cohere) (1.4.0)\n",
      "Requirement already satisfied: multidict<7.0,>=4.5 in /opt/anaconda3/lib/python3.12/site-packages (from aiohttp<4.0.0,>=3.8.3->langchain-community<0.3.0,>=0.2.16->langchain-experimental>=0.0.6->langchain-cohere) (6.0.4)\n",
      "Requirement already satisfied: yarl<2.0,>=1.0 in /opt/anaconda3/lib/python3.12/site-packages (from aiohttp<4.0.0,>=3.8.3->langchain-community<0.3.0,>=0.2.16->langchain-experimental>=0.0.6->langchain-cohere) (1.9.3)\n",
      "Requirement already satisfied: marshmallow<4.0.0,>=3.18.0 in /opt/anaconda3/lib/python3.12/site-packages (from dataclasses-json<0.7,>=0.5.7->langchain-community<0.3.0,>=0.2.16->langchain-experimental>=0.0.6->langchain-cohere) (3.21.3)\n",
      "Requirement already satisfied: typing-inspect<1,>=0.4.0 in /opt/anaconda3/lib/python3.12/site-packages (from dataclasses-json<0.7,>=0.5.7->langchain-community<0.3.0,>=0.2.16->langchain-experimental>=0.0.6->langchain-cohere) (0.9.0)\n",
      "Requirement already satisfied: filelock in /opt/anaconda3/lib/python3.12/site-packages (from huggingface-hub<1.0,>=0.16.4->tokenizers<1,>=0.15->cohere<6.0,>=5.5.6->langchain-cohere) (3.13.1)\n",
      "Requirement already satisfied: fsspec>=2023.5.0 in /opt/anaconda3/lib/python3.12/site-packages (from huggingface-hub<1.0,>=0.16.4->tokenizers<1,>=0.15->cohere<6.0,>=5.5.6->langchain-cohere) (2024.3.1)\n",
      "Requirement already satisfied: tqdm>=4.42.1 in /opt/anaconda3/lib/python3.12/site-packages (from huggingface-hub<1.0,>=0.16.4->tokenizers<1,>=0.15->cohere<6.0,>=5.5.6->langchain-cohere) (4.66.4)\n",
      "Requirement already satisfied: langchain-text-splitters<0.3.0,>=0.2.0 in /opt/anaconda3/lib/python3.12/site-packages (from langchain<0.3.0,>=0.2.16->langchain-community<0.3.0,>=0.2.16->langchain-experimental>=0.0.6->langchain-cohere) (0.2.2)\n",
      "Requirement already satisfied: mypy-extensions>=0.3.0 in /opt/anaconda3/lib/python3.12/site-packages (from typing-inspect<1,>=0.4.0->dataclasses-json<0.7,>=0.5.7->langchain-community<0.3.0,>=0.2.16->langchain-experimental>=0.0.6->langchain-cohere) (1.0.0)\n",
      "Note: you may need to restart the kernel to use updated packages.\n"
     ]
    }
   ],
   "source": [
    "pip install langchain-cohere"
   ]
  },
  {
   "cell_type": "code",
   "execution_count": 7,
   "id": "d6e0f8fe-bc95-44ad-9cb1-7d1360d1fc64",
   "metadata": {},
   "outputs": [
    {
     "name": "stdin",
     "output_type": "stream",
     "text": [
      "Enter your Cohere API Key: ········\n"
     ]
    }
   ],
   "source": [
    "import os\n",
    "import getpass\n",
    "\n",
    "if not os.getenv(\"COHERE_API_KEY\"):\n",
    "    os.environ[\"COHERE_API_KEY\"] = getpass.getpass(\"Enter your Cohere API Key:\")"
   ]
  },
  {
   "cell_type": "code",
   "execution_count": 8,
   "id": "ddd1e6c9-2adf-4124-b516-f8d95a5dcbc8",
   "metadata": {},
   "outputs": [
    {
     "name": "stderr",
     "output_type": "stream",
     "text": [
      "/var/folders/t_/97ftm8jx1rq5bjblv9hym4sw0000gn/T/ipykernel_11495/2725308945.py:5: LangChainDeprecationWarning: The class `Cohere` was deprecated in LangChain 0.1.14 and will be removed in 1.0. An updated version of the class exists in the langchain-cohere package and should be used instead. To use it run `pip install -U langchain-cohere` and import as `from langchain_cohere import Cohere`.\n",
      "  llm = Cohere(temperature=0)\n"
     ]
    },
    {
     "data": {
      "text/plain": [
       "[Document(metadata={'source': 'https://en.wikipedia.org/wiki/Concerns_and_controversies_at_the_2024_Summer_Olympics', 'summary': 'Various concerns and controversies arose in relation to the 2024 Summer Olympics, including security concerns, human rights issues, and controversy over allowing Israel to participate amidst the Israel–Hamas war, and allowing Russian and Belarusian athletes to compete as neutrals amidst the Russian invasion of Ukraine. Despite the nominal Olympic Truce in place, the wars in Ukraine and Palestine already set a more conflicted political background to the 2024 Summer Olympics, before considering domestic and sporting issues.\\n\\n', 'title': 'Concerns and controversies at the 2024 Summer Olympics', 'relevance_score': 0.9420819}, page_content='Various concerns and controversies arose in relation to the 2024 Summer Olympics, including security concerns, human rights issues, and controversy over allowing Israel to participate amidst the Israel–Hamas war, and allowing Russian and Belarusian athletes to compete as neutrals amidst the Russian invasion of Ukraine. Despite the nominal Olympic Truce in place, the wars in Ukraine and Palestine already set a more conflicted political background to the 2024 Summer Olympics, before considering domestic and sporting issues.\\n\\n\\n== Domestic organisational issues and controversies ==')]"
      ]
     },
     "execution_count": 8,
     "metadata": {},
     "output_type": "execute_result"
    }
   ],
   "source": [
    "from langchain.retrievers.contextual_compression import ContextualCompressionRetriever\n",
    "from langchain_cohere import CohereRerank\n",
    "from langchain_community.llms import Cohere\n",
    "\n",
    "llm = Cohere(temperature=0)\n",
    "compressor = CohereRerank(model=\"rerank-english-v3.0\")\n",
    "compression_retriever = ContextualCompressionRetriever(\n",
    "    base_compressor=compressor, base_retriever=retriever\n",
    ")\n",
    "\n",
    "compressed_docs = compression_retriever.invoke(\n",
    "    \"How was security during the 2024 Olympics\"\n",
    ")\n",
    "\n",
    "compressed_docs"
   ]
  }
 ],
 "metadata": {
  "kernelspec": {
   "display_name": "Python 3 (ipykernel)",
   "language": "python",
   "name": "python3"
  },
  "language_info": {
   "codemirror_mode": {
    "name": "ipython",
    "version": 3
   },
   "file_extension": ".py",
   "mimetype": "text/x-python",
   "name": "python",
   "nbconvert_exporter": "python",
   "pygments_lexer": "ipython3",
   "version": "3.12.2"
  }
 },
 "nbformat": 4,
 "nbformat_minor": 5
}

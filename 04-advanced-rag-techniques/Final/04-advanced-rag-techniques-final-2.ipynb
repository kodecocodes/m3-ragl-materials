{
 "cells": [
  {
   "cell_type": "code",
   "execution_count": 1,
   "id": "be9c7eaa-468c-41fa-bc01-165b6458ffdb",
   "metadata": {},
   "outputs": [],
   "source": [
    "# Set up a User Agent for this session\n",
    "import os\n",
    "from langchain_openai import ChatOpenAI\n",
    "from langchain_chroma import Chroma\n",
    "from langchain_community.document_loaders import WikipediaLoader\n",
    "from langchain_openai import OpenAIEmbeddings\n",
    "from langchain_text_splitters import RecursiveCharacterTextSplitter\n",
    "\n",
    "os.environ['USER_AGENT'] = 'sports-buddy-advanced'\n",
    "\n",
    "llm = ChatOpenAI(model=\"gpt-4o-mini\")\n",
    "\n",
    "loader = WikipediaLoader(\"2024_Summer_Olympics\",)\n",
    "docs = loader.load()\n",
    "\n",
    "text_splitter = RecursiveCharacterTextSplitter(chunk_size=1000, chunk_overlap=0)\n",
    "splits = text_splitter.split_documents(docs)\n",
    "\n",
    "database = Chroma.from_documents(documents=splits, embedding=OpenAIEmbeddings())\n",
    "retriever = database.as_retriever()"
   ]
  },
  {
   "cell_type": "code",
   "execution_count": 2,
   "id": "b605976d-5ecc-4a09-8aff-b169d6a9f001",
   "metadata": {},
   "outputs": [],
   "source": [
    "from langchain.retrievers import BM25Retriever, EnsembleRetriever\n",
    "\n",
    "keyword_retriever = BM25Retriever.from_documents(splits)\n",
    "keyword_retriever.k =  3\n",
    "\n",
    "ensemble_retriever = EnsembleRetriever(retrievers=[retriever, keyword_retriever], weights=[0.3, 0.7])"
   ]
  },
  {
   "cell_type": "code",
   "execution_count": 3,
   "id": "2c579ece-e41c-49c3-8dca-e635c4dacb23",
   "metadata": {},
   "outputs": [],
   "source": [
    "from langchain.chains import RetrievalQA\n",
    "\n",
    "dense_chain = RetrievalQA.from_chain_type(\n",
    "    llm=llm, retriever=retriever\n",
    ")\n",
    "\n",
    "sparse_chain = RetrievalQA.from_chain_type(\n",
    "    llm=llm, retriever=ensemble_retriever\n",
    ")"
   ]
  },
  {
   "cell_type": "code",
   "execution_count": 4,
   "id": "0bbc5c76-1098-4950-afe5-58f6dd1f267f",
   "metadata": {},
   "outputs": [
    {
     "name": "stdout",
     "output_type": "stream",
     "text": [
      "The opening ceremony of the 2024 Summer Olympics was held outside of a stadium for the first time in modern Olympic history. Athletes were paraded by boat along the Seine River in Paris.\n"
     ]
    }
   ],
   "source": [
    "normal_response = dense_chain.invoke(\"What happened at the opening ceremony of the 2024 Summer Olympics\")\n",
    "print(normal_response['result'])"
   ]
  },
  {
   "cell_type": "code",
   "execution_count": 5,
   "id": "44e8b5ca-9b2b-4064-a7e2-e1add241a25f",
   "metadata": {},
   "outputs": [
    {
     "name": "stdout",
     "output_type": "stream",
     "text": [
      "The opening ceremony of the 2024 Summer Olympics took place outside of a stadium for the first time in modern Olympic history, with athletes being paraded by boat along the Seine River in Paris. This unique setting was part of the ceremony, making it a significant and memorable event in Olympic history.\n"
     ]
    }
   ],
   "source": [
    "sparse_response = sparse_chain.invoke(\"What happened at the opening ceremony of the 2024 Summer Olympics\")\n",
    "print(hybrid_response['result'])"
   ]
  },
  {
   "cell_type": "code",
   "execution_count": null,
   "id": "e2dc146d-6d26-4bd6-be1e-2bf0bf0dadb4",
   "metadata": {},
   "outputs": [],
   "source": []
  }
 ],
 "metadata": {
  "kernelspec": {
   "display_name": "Python 3 (ipykernel)",
   "language": "python",
   "name": "python3"
  },
  "language_info": {
   "codemirror_mode": {
    "name": "ipython",
    "version": 3
   },
   "file_extension": ".py",
   "mimetype": "text/x-python",
   "name": "python",
   "nbconvert_exporter": "python",
   "pygments_lexer": "ipython3",
   "version": "3.12.2"
  }
 },
 "nbformat": 4,
 "nbformat_minor": 5
}

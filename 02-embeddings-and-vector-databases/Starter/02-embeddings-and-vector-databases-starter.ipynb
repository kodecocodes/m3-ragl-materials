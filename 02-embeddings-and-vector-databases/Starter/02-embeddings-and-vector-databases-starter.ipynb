{
 "cells": [
  {
   "cell_type": "markdown",
   "id": "e0c22760-f2dc-4284-b550-6937dbea5f16",
   "metadata": {},
   "source": [
    "## Prerequisites\n",
    "- pip install langchain-openai\n",
    "- export OPENAI_API_KEY=\"...\""
   ]
  },
  {
   "cell_type": "code",
   "execution_count": 2,
   "id": "86711e96-19d8-459b-948f-d68f11c96b52",
   "metadata": {},
   "outputs": [],
   "source": [
    "# Initialize OpenAI embeddings\n",
    "\n",
    "import os\n",
    "from langchain_openai import OpenAIEmbeddings\n",
    "\n",
    "embeddings_model = OpenAIEmbeddings(api_key=os.environ['OPENAI_API_KEY'])"
   ]
  },
  {
   "cell_type": "code",
   "execution_count": 3,
   "id": "db44e0e5-0ddb-4c72-97df-1112562556c5",
   "metadata": {},
   "outputs": [
    {
     "name": "stdout",
     "output_type": "stream",
     "text": [
      "<class 'langchain_openai.embeddings.base.OpenAIEmbeddings'>\n"
     ]
    }
   ],
   "source": [
    "print(type(embeddings_model))"
   ]
  },
  {
   "cell_type": "code",
   "execution_count": null,
   "id": "a87d5533-cbf4-4325-9368-60bc49b415ce",
   "metadata": {},
   "outputs": [],
   "source": []
  }
 ],
 "metadata": {
  "kernelspec": {
   "display_name": "Python 3 (ipykernel)",
   "language": "python",
   "name": "python3"
  },
  "language_info": {
   "codemirror_mode": {
    "name": "ipython",
    "version": 3
   },
   "file_extension": ".py",
   "mimetype": "text/x-python",
   "name": "python",
   "nbconvert_exporter": "python",
   "pygments_lexer": "ipython3",
   "version": "3.12.2"
  },
  "panel-cell-order": [
   "32bdb37c-7fc3-4a61-a2de-2f9ef8955926"
  ]
 },
 "nbformat": 4,
 "nbformat_minor": 5
}

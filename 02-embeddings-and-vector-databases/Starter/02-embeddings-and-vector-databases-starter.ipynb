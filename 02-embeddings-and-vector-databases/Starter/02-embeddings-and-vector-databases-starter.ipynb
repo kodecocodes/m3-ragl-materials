{
 "cells": [
  {
   "cell_type": "markdown",
   "id": "e0c22760-f2dc-4284-b550-6937dbea5f16",
   "metadata": {},
   "source": [
    "## Prerequisites\n",
    "- pip install langchain-openai\n",
    "- pip install langchain-chroma\n",
    "- export OPENAI_API_KEY=\"...\""
   ]
  },
  {
   "cell_type": "code",
   "execution_count": 2,
   "id": "86711e96-19d8-459b-948f-d68f11c96b52",
   "metadata": {},
   "outputs": [],
   "source": [
    "# Initialize OpenAI embeddings\n",
    "\n",
    "import os\n",
    "from langchain_openai import OpenAIEmbeddings\n",
    "\n",
    "embeddings_model = OpenAIEmbeddings(api_key=os.environ['OPENAI_API_KEY'])"
   ]
  },
  {
   "cell_type": "code",
   "execution_count": null,
   "id": "4fd65177-c588-4467-9b22-06a4aa78dc37",
   "metadata": {},
   "outputs": [],
   "source": [
    "# TODO: Setup Chroma with LangChain\n",
    "\n"
   ]
  },
  {
   "cell_type": "code",
   "execution_count": null,
   "id": "3a682371-fa0f-41f7-b662-ebe29a7d914f",
   "metadata": {},
   "outputs": [],
   "source": [
    "# TODO: Add documents to Chroma\n",
    "\n"
   ]
  },
  {
   "cell_type": "code",
   "execution_count": null,
   "id": "a483f541-64ca-48d9-be5d-85437533d379",
   "metadata": {},
   "outputs": [],
   "source": [
    "# TODO: Perform a similarity search\n",
    "\n"
   ]
  },
  {
   "cell_type": "code",
   "execution_count": null,
   "id": "41e5cf1f-5a81-4fc0-a58a-b7bbcf94488c",
   "metadata": {},
   "outputs": [],
   "source": [
    "# TODO: Perform a similarity search with score\n",
    "\n"
   ]
  }
 ],
 "metadata": {
  "kernelspec": {
   "display_name": "Python 3 (ipykernel)",
   "language": "python",
   "name": "python3"
  },
  "language_info": {
   "codemirror_mode": {
    "name": "ipython",
    "version": 3
   },
   "file_extension": ".py",
   "mimetype": "text/x-python",
   "name": "python",
   "nbconvert_exporter": "python",
   "pygments_lexer": "ipython3",
   "version": "3.12.2"
  },
  "panel-cell-order": [
   "32bdb37c-7fc3-4a61-a2de-2f9ef8955926"
  ]
 },
 "nbformat": 4,
 "nbformat_minor": 5
}

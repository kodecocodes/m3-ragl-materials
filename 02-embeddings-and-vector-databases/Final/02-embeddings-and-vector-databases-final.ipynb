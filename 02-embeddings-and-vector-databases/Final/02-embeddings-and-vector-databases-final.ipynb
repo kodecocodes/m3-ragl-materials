{
 "cells": [
  {
   "cell_type": "markdown",
   "id": "e0c22760-f2dc-4284-b550-6937dbea5f16",
   "metadata": {},
   "source": [
    "## Prerequisites\n",
    "- pip install langchain-openai\n",
    "- pip install langchain-chroma\n",
    "- export OPENAI_API_KEY=\"...\""
   ]
  },
  {
   "cell_type": "code",
   "execution_count": 1,
   "id": "86711e96-19d8-459b-948f-d68f11c96b52",
   "metadata": {},
   "outputs": [],
   "source": [
    "# Initialize OpenAI embeddings\n",
    "\n",
    "import os\n",
    "from langchain_openai import OpenAIEmbeddings\n",
    "\n",
    "embeddings_model = OpenAIEmbeddings(api_key=os.environ['OPENAI_API_KEY'])"
   ]
  },
  {
   "cell_type": "code",
   "execution_count": 2,
   "id": "4fd65177-c588-4467-9b22-06a4aa78dc37",
   "metadata": {},
   "outputs": [],
   "source": [
    "# TODO: Setup Chroma with LangChain\n",
    "\n",
    "from langchain_chroma import Chroma\n",
    "\n",
    "db = Chroma(\n",
    "    collection_name=\"speech_collection\",\n",
    "    embedding_function=OpenAIEmbeddings(),\n",
    "    persist_directory=\"./chroma_db\",\n",
    ")"
   ]
  },
  {
   "cell_type": "code",
   "execution_count": 3,
   "id": "3a682371-fa0f-41f7-b662-ebe29a7d914f",
   "metadata": {},
   "outputs": [
    {
     "data": {
      "text/plain": [
       "['56020fed-1545-4a02-bade-37913181d812',\n",
       " 'e7edc823-4544-49aa-84c4-096b5d631472',\n",
       " '405f1802-49c3-45c7-92c2-d07fe17b59a8',\n",
       " 'd96c8e6a-76a1-4612-b383-1b397225ba2e',\n",
       " '6c739973-9657-4cf3-83f6-dfb33c58e7ff']"
      ]
     },
     "execution_count": 3,
     "metadata": {},
     "output_type": "execute_result"
    }
   ],
   "source": [
    "# TODO: Add documents to Chroma\n",
    "\n",
    "from uuid import uuid4\n",
    "from langchain_core.documents import Document\n",
    "\n",
    "document_1 = Document(\n",
    "    page_content=\"20 tons of cocoa have been deposited at Warehouse AX749\",\n",
    "    collection_name=\"speech_collection\",\n",
    "    embedding_function=OpenAIEmbeddings(),\n",
    "    persist_directory=\"./chroma_db\",\n",
    "    metadata={\"source\": \"messaging_api\"},\n",
    "    id=1,\n",
    ")\n",
    "\n",
    "document_2 = Document(\n",
    "    page_content=\"The National Geographic Society has discovered a new species of aquatic animal, off the coast of Miami. They have been exploring at 8000 miles deep in the Pacific Ocean. They believe there's a lot more to learn from the oceans.\",\n",
    "    metadata={\"source\": \"news\"},\n",
    "    id=2,\n",
    ")\n",
    "\n",
    "document_3 = Document(\n",
    "    page_content=\"Martin Luther King's speech, I Have a Dream, remains one of the world's greatest ever. Here's everything he said in 5 minutes.\",\n",
    "    metadata={\"source\": \"website\"},\n",
    "    id=3,\n",
    ")\n",
    "\n",
    "document_4 = Document(\n",
    "    page_content=\"For the first time in 1200 years, the Kalahari desert receives 200ml of rain.\",\n",
    "    metadata={\"source\": \"tweet\"},\n",
    "    id=4,\n",
    ")\n",
    "\n",
    "document_5 = Document(\n",
    "    page_content=\"New multi-modal learning content about AI is ready from Kodeco.\",\n",
    "    metadata={\"source\": \"kodeco_rss_feed\"},\n",
    "    id=5,\n",
    ")\n",
    "\n",
    "documents = [\n",
    "    document_1,\n",
    "    document_2,\n",
    "    document_3,\n",
    "    document_4,\n",
    "    document_5,\n",
    "]\n",
    "uuids = [str(uuid4()) for _ in range(len(documents))]\n",
    "\n",
    "db.add_documents(ids=uuids, documents=documents)"
   ]
  },
  {
   "cell_type": "code",
   "execution_count": 4,
   "id": "a483f541-64ca-48d9-be5d-85437533d379",
   "metadata": {},
   "outputs": [
    {
     "name": "stdout",
     "output_type": "stream",
     "text": [
      "* 20 tons of cocoa have been deposited at Warehouse AX749\n",
      "* 20 tons of cocoa have been deposited at Warehouse AX749\n"
     ]
    }
   ],
   "source": [
    "# TODO: Perform a similarity search\n",
    "\n",
    "results = db.similarity_search(\n",
    "    \"What's the latest on the warehouse?\",\n",
    "    k=2,\n",
    "    filter={\"source\": \"messaging_api\"},\n",
    ")\n",
    "for res in results:\n",
    "    print(f\"* {res.page_content}\")"
   ]
  },
  {
   "cell_type": "code",
   "execution_count": 5,
   "id": "41e5cf1f-5a81-4fc0-a58a-b7bbcf94488c",
   "metadata": {},
   "outputs": [
    {
     "name": "stdout",
     "output_type": "stream",
     "text": [
      "\n",
      "similarity_score: 0.386230\n",
      "content: New multi-modal learning content about AI is ready from Kodeco.\n",
      "source: kodeco_rss_feed\n",
      "\n"
     ]
    }
   ],
   "source": [
    "# TODO: Perform a similarity search with score\n",
    "\n",
    "results = db.similarity_search_with_score(\n",
    "    \"Where can I find tutorials on AI?\", \n",
    "    k=1, \n",
    "    filter={\"source\": \"kodeco_rss_feed\"}\n",
    ")\n",
    "for res, score in results:\n",
    "    print(f'''\n",
    "similarity_score: {score:3f}\n",
    "content: {res.page_content}\n",
    "source: {res.metadata['source']}\n",
    "''')"
   ]
  },
  {
   "cell_type": "code",
   "execution_count": null,
   "id": "2766bbcd-b92b-40cd-a388-ae5904988ba3",
   "metadata": {},
   "outputs": [],
   "source": []
  }
 ],
 "metadata": {
  "kernelspec": {
   "display_name": "Python 3 (ipykernel)",
   "language": "python",
   "name": "python3"
  },
  "language_info": {
   "codemirror_mode": {
    "name": "ipython",
    "version": 3
   },
   "file_extension": ".py",
   "mimetype": "text/x-python",
   "name": "python",
   "nbconvert_exporter": "python",
   "pygments_lexer": "ipython3",
   "version": "3.12.2"
  },
  "panel-cell-order": [
   "32bdb37c-7fc3-4a61-a2de-2f9ef8955926"
  ]
 },
 "nbformat": 4,
 "nbformat_minor": 5
}

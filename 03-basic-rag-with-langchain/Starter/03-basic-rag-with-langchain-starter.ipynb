{
 "cells": [
  {
   "cell_type": "markdown",
   "id": "7b70be66-d427-4b13-8842-0ce7fc4c0b17",
   "metadata": {},
   "source": [
    "## Prerequisites\n",
    "- pip install langchain langchain_community langchain_chroma\n",
    "- pip install -qU langchain-openai\n",
    "- export LANGCHAIN_API_KEY=\"...\""
   ]
  },
  {
   "cell_type": "code",
   "execution_count": null,
   "id": "ce9638a6-203d-44ec-8471-c65d977f7b21",
   "metadata": {},
   "outputs": [],
   "source": [
    "# Set up a User Agent for this session\n",
    "import os\n",
    "\n",
    "os.environ['USER_AGENT'] = 'sports-buddy-basic'"
   ]
  },
  {
   "cell_type": "code",
   "execution_count": 1,
   "id": "da530afb-4eaa-4e1f-8c13-397b39fa21f7",
   "metadata": {},
   "outputs": [],
   "source": [
    "# Initialize an OpenAI model\n",
    "from langchain_openai import ChatOpenAI\n",
    "\n",
    "llm = ChatOpenAI(model=\"gpt-4o-mini\")"
   ]
  },
  {
   "cell_type": "code",
   "execution_count": null,
   "id": "c5352cd8-6894-4b14-bb5a-81bb685d4ace",
   "metadata": {},
   "outputs": [],
   "source": [
    "from langchain import hub\n",
    "from langchain_chroma import Chroma\n",
    "from langchain_community.document_loaders import WebBaseLoader\n",
    "from langchain_core.output_parsers import StrOutputParser\n",
    "from langchain_core.runnables import RunnablePassthrough\n",
    "from langchain_openai import OpenAIEmbeddings\n",
    "from langchain_text_splitters import RecursiveCharacterTextSplitter\n",
    "\n",
    "loader = WebBaseLoader(\n",
    "    web_paths=(\"https://en.wikipedia.org/wiki/2024_Summer_Olympics\",)\n",
    ")\n",
    "# TODO: Load documents\n",
    "# docs = loader.load()"
   ]
  },
  {
   "cell_type": "code",
   "execution_count": null,
   "id": "81a93a18-e29b-4190-832c-7782bef0b7b7",
   "metadata": {},
   "outputs": [],
   "source": [
    "# TODO: Split documents\n",
    "# text_splitter = RecursiveCharacterTextSplitter(chunk_size=1000, chunk_overlap=200)\n",
    "splits = text_splitter.split_documents(docs)\n",
    "\n",
    "# TODO: Store documents in Chroma vector database\n",
    "# database = Chroma.from_documents(documents=splits, embedding=OpenAIEmbeddings())\n",
    "\n",
    "# Retrieve documents.\n",
    "retriever = database.as_retriever()\n",
    "prompt = hub.pull(\"rlm/rag-prompt\")\n",
    "\n",
    "def format_docs(docs):\n",
    "    return \"\\n\\n\".join(doc.page_content for doc in docs)\n",
    "\n",
    "rag_chain = (\n",
    "    {\"context\": retriever | format_docs, \"question\": RunnablePassthrough()}\n",
    "    | prompt\n",
    "    | llm\n",
    "    | StrOutputParser()\n",
    ")\n",
    "\n",
    "rag_chain.invoke(\"Which programmes were dropped from the 2024 Olympics?\")"
   ]
  },
  {
   "cell_type": "code",
   "execution_count": null,
   "id": "1d0a0a93-55f1-43e9-aa2f-7e2bc3da8be2",
   "metadata": {},
   "outputs": [],
   "source": []
  }
 ],
 "metadata": {
  "kernelspec": {
   "display_name": "Python 3 (ipykernel)",
   "language": "python",
   "name": "python3"
  },
  "language_info": {
   "codemirror_mode": {
    "name": "ipython",
    "version": 3
   },
   "file_extension": ".py",
   "mimetype": "text/x-python",
   "name": "python",
   "nbconvert_exporter": "python",
   "pygments_lexer": "ipython3",
   "version": "3.12.2"
  }
 },
 "nbformat": 4,
 "nbformat_minor": 5
}

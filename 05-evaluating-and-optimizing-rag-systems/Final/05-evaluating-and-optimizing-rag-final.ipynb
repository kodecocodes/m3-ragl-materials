{
 "cells": [
  {
   "cell_type": "code",
   "execution_count": 1,
   "id": "ce9638a6-203d-44ec-8471-c65d977f7b21",
   "metadata": {},
   "outputs": [],
   "source": [
    "# Set up a User Agent for this session\n",
    "import os\n",
    "\n",
    "os.environ['USER_AGENT'] = 'sports-buddy-query-analysis'"
   ]
  },
  {
   "cell_type": "code",
   "execution_count": 2,
   "id": "c5352cd8-6894-4b14-bb5a-81bb685d4ace",
   "metadata": {},
   "outputs": [
    {
     "name": "stdout",
     "output_type": "stream",
     "text": [
      "Title: 2022 Ballon d'Or - Wikipedia\n",
      "Approximate Word Count: 4000\n",
      "\n",
      "Title: 2023 Ballon d'Or - Wikipedia\n",
      "Approximate Word Count: 2000\n",
      "\n",
      "Title: 2022â€“23 NBA season - Wikipedia\n",
      "Approximate Word Count: 10000\n",
      "\n",
      "Title: 2021–22 NBA season - Wikipedia\n",
      "Approximate Word Count: 14000\n",
      "\n",
      "Title: 2022–23 Premier League - Wikipedia\n",
      "Approximate Word Count: 8000\n",
      "\n",
      "Title: 2021–22 Premier League - Wikipedia\n",
      "Approximate Word Count: 7000\n",
      "\n",
      "Title: 2021–22 UEFA Champions League - Wikipedia\n",
      "Approximate Word Count: 6000\n",
      "\n",
      "Title: 2022–23 UEFA Champions League - Wikipedia\n",
      "Approximate Word Count: 4000\n",
      "\n",
      "Title: 2023 Cricket World Cup - Wikipedia\n",
      "Approximate Word Count: 6000\n",
      "\n"
     ]
    }
   ],
   "source": [
    "import datetime\n",
    "import math\n",
    "from langchain_community.document_loaders import WebBaseLoader\n",
    "\n",
    "loader = WebBaseLoader(\n",
    "    web_paths=(\"https://en.wikipedia.org/wiki/2022_Ballon_d%27Or\",\n",
    "               \"https://en.wikipedia.org/wiki/2023_Ballon_d%27Or\",\n",
    "               \"https://en.wikipedia.org/wiki/2022%E2%80%9323_NBA_season\",\n",
    "               \"https://en.wikipedia.org/wiki/2021%E2%80%9322_NBA_season\",\n",
    "               \"https://en.wikipedia.org/wiki/2022%E2%80%9323_Premier_League\",\n",
    "               \"https://en.wikipedia.org/wiki/2021%E2%80%9322_Premier_League\",\n",
    "               \"https://en.wikipedia.org/wiki/2021%E2%80%9322_UEFA_Champions_League\",\n",
    "               \"https://en.wikipedia.org/wiki/2022%E2%80%9323_UEFA_Champions_League\",\n",
    "               \"https://en.wikipedia.org/wiki/2023_Cricket_World_Cup\")\n",
    ")\n",
    "\n",
    "docs = loader.load()\n",
    "\n",
    "# Rounding up or down based to nearest 1000\n",
    "def round_to_nearest_thousand(number):\n",
    "    return round(number / 1000) * 1000\n",
    "\n",
    "def print_summary(doc):\n",
    "    print(f\"Title: {doc.metadata[\"title\"]}\")\n",
    "    print(f\"Approximate Word Count: {doc.metadata[\"words\"]}\")\n",
    "\n",
    "# TODO: Add 'words' metadata\n",
    "for doc in docs:\n",
    "    doc.metadata[\"words\"] = round_to_nearest_thousand(len(doc.page_content.split(\" \")))\n",
    "    print_summary(doc)\n",
    "    print()\n"
   ]
  },
  {
   "cell_type": "code",
   "execution_count": 3,
   "id": "44cfda96-0e78-4016-8760-704a4d3a503e",
   "metadata": {},
   "outputs": [],
   "source": [
    "from langchain_chroma import Chroma\n",
    "from langchain_openai import OpenAIEmbeddings\n",
    "from langchain_text_splitters import RecursiveCharacterTextSplitter\n",
    "\n",
    "text_splitter = RecursiveCharacterTextSplitter(chunk_size=1000, chunk_overlap=200)\n",
    "splits = text_splitter.split_documents(docs)\n",
    "\n",
    "database = Chroma.from_documents(documents=splits, embedding=OpenAIEmbeddings())\n",
    "retriever = database.as_retriever()"
   ]
  },
  {
   "cell_type": "code",
   "execution_count": 4,
   "id": "561898fd-605e-494c-b402-9b4af199f356",
   "metadata": {},
   "outputs": [
    {
     "name": "stdout",
     "output_type": "stream",
     "text": [
      "Title: 2022 Ballon d'Or - Wikipedia\n",
      "Approximate Word Count: 4000\n"
     ]
    }
   ],
   "source": [
    "search_results = database.similarity_search(\"Who won the 2022 ballon d'or?\")\n",
    "print_summary(search_results[0])"
   ]
  },
  {
   "cell_type": "code",
   "execution_count": 6,
   "id": "1b7098a8-ec5f-4c2b-b593-af13509bfd5f",
   "metadata": {},
   "outputs": [
    {
     "name": "stdout",
     "output_type": "stream",
     "text": [
      "Title: 2023 Cricket World Cup - Wikipedia\n",
      "Approximate Word Count: 6000\n"
     ]
    }
   ],
   "source": [
    "search_results = database.similarity_search(\"Suggest a sports article with approximately 14000 words\")\n",
    "print_summary(search_results[0])"
   ]
  },
  {
   "cell_type": "code",
   "execution_count": 7,
   "id": "79d7d612-c2b0-4478-9fc1-15a195bd350c",
   "metadata": {},
   "outputs": [],
   "source": [
    "from typing import Optional\n",
    "from pydantic import BaseModel, Field\n",
    "\n",
    "\n",
    "class SportsSearch(BaseModel):\n",
    "    \"\"\"Search over a database of sports articles.\"\"\"\n",
    "\n",
    "    query: str = Field(\n",
    "        ...,\n",
    "        description=\"Similarity search query applied to sports articles.\",\n",
    "    )\n",
    "    words: Optional[int] = Field(None, description=\"Number of words in article\")"
   ]
  },
  {
   "cell_type": "code",
   "execution_count": 8,
   "id": "0a8f8cc4-9910-4318-9421-5bfb19a8b1b0",
   "metadata": {},
   "outputs": [],
   "source": [
    "from langchain_core.prompts import ChatPromptTemplate\n",
    "from langchain_core.runnables import RunnablePassthrough\n",
    "from langchain_openai import ChatOpenAI\n",
    "\n",
    "system = \"\"\"You are an expert at converting user questions into database queries. \\\n",
    "You have access to a database of sports articles. \\\n",
    "Given a question, return a list of database queries optimized to retrieve the most relevant results.\n",
    "\n",
    "If there are acronyms or words you are not familiar with, do not try to rephrase them.\"\"\"\n",
    "prompt = ChatPromptTemplate.from_messages(\n",
    "    [\n",
    "        (\"system\", system),\n",
    "        (\"human\", \"{question}\"),\n",
    "    ]\n",
    ")\n",
    "\n",
    "llm = ChatOpenAI(model=\"gpt-4o-mini\", temperature=0)\n",
    "structured_llm = llm.with_structured_output(SportsSearch)\n",
    "query_analyzer = {\"question\": RunnablePassthrough()} | prompt | structured_llm"
   ]
  },
  {
   "cell_type": "code",
   "execution_count": 10,
   "id": "1c22329e-5978-47ed-8ae8-8ea2d51d327f",
   "metadata": {},
   "outputs": [],
   "source": [
    "from typing import List\n",
    "from langchain_core.documents import Document\n",
    "\n",
    "def retrieve_by_metadata(search: SportsSearch) -> List[Document]:\n",
    "    if search.words is not None:\n",
    "        _filter = {\"words\": {\"$eq\": search.words}}\n",
    "    else:\n",
    "        _filter = None\n",
    "    return database.similarity_search(search.query, filter=_filter)"
   ]
  },
  {
   "cell_type": "code",
   "execution_count": 11,
   "id": "7e99f868-10ed-45a5-acb0-e5bf6d0d656e",
   "metadata": {},
   "outputs": [
    {
     "data": {
      "text/plain": [
       "SportsSearch(query=\"2022 Ballon d'Or winner\", words=None)"
      ]
     },
     "execution_count": 11,
     "metadata": {},
     "output_type": "execute_result"
    }
   ],
   "source": [
    "query_analyzer.invoke(\"Who won the 2022 ballon d'or?\")"
   ]
  },
  {
   "cell_type": "code",
   "execution_count": 12,
   "id": "7591fed9-da30-4902-89ec-c6226c609450",
   "metadata": {},
   "outputs": [
    {
     "name": "stdout",
     "output_type": "stream",
     "text": [
      "Title: 2022 Ballon d'Or - Wikipedia\n",
      "Approximate Word Count: 4000\n"
     ]
    }
   ],
   "source": [
    "search_results = database.similarity_search(\"2022 Ballon d'Or winner\")\n",
    "print_summary(search_results[0])"
   ]
  },
  {
   "cell_type": "code",
   "execution_count": 13,
   "id": "7bd2e61f-3d93-4afc-aba5-d0a2220927d9",
   "metadata": {},
   "outputs": [
    {
     "data": {
      "text/plain": [
       "SportsSearch(query='sports article', words=14000)"
      ]
     },
     "execution_count": 13,
     "metadata": {},
     "output_type": "execute_result"
    }
   ],
   "source": [
    "query_analyzer.invoke(\"Suggest a sports article with approximately 14000 words\")"
   ]
  },
  {
   "cell_type": "code",
   "execution_count": 14,
   "id": "ddea0541-cebe-4515-aa84-5b4b70335b6a",
   "metadata": {},
   "outputs": [
    {
     "name": "stdout",
     "output_type": "stream",
     "text": [
      "Title: 2021–22 NBA season - Wikipedia\n",
      "Approximate Word Count: 14000\n"
     ]
    }
   ],
   "source": [
    "retrieval_chain = query_analyzer | retrieve_by_metadata\n",
    "\n",
    "search_results = retrieval_chain.invoke(\"Suggest a sports article with approximately 14000 words\")\n",
    "print_summary(search_results[0])"
   ]
  },
  {
   "cell_type": "code",
   "execution_count": 15,
   "id": "d9505063-7cdb-45a3-ba11-3952f72fbc61",
   "metadata": {},
   "outputs": [
    {
     "name": "stdout",
     "output_type": "stream",
     "text": [
      "Title: 2021–22 UEFA Champions League - Wikipedia\n",
      "Approximate Word Count: 6000\n"
     ]
    }
   ],
   "source": [
    "search_results = retrieval_chain.invoke(\"Suggest a football article with approximately 6000 words\")\n",
    "print_summary(search_results[0])"
   ]
  },
  {
   "cell_type": "code",
   "execution_count": null,
   "id": "098503ba-21c1-4e99-99bf-60d184acb99f",
   "metadata": {},
   "outputs": [],
   "source": []
  }
 ],
 "metadata": {
  "kernelspec": {
   "display_name": "Python 3 (ipykernel)",
   "language": "python",
   "name": "python3"
  },
  "language_info": {
   "codemirror_mode": {
    "name": "ipython",
    "version": 3
   },
   "file_extension": ".py",
   "mimetype": "text/x-python",
   "name": "python",
   "nbconvert_exporter": "python",
   "pygments_lexer": "ipython3",
   "version": "3.12.2"
  }
 },
 "nbformat": 4,
 "nbformat_minor": 5
}

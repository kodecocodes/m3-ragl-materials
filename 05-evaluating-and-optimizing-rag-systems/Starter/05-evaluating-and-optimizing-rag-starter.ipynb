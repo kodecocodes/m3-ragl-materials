{
 "cells": [
  {
   "cell_type": "code",
   "execution_count": 1,
   "id": "ce9638a6-203d-44ec-8471-c65d977f7b21",
   "metadata": {},
   "outputs": [],
   "source": [
    "# Set up a User Agent for this session\n",
    "import os\n",
    "\n",
    "os.environ['USER_AGENT'] = 'sports-buddy-query-analysis'"
   ]
  },
  {
   "cell_type": "code",
   "execution_count": null,
   "id": "c5352cd8-6894-4b14-bb5a-81bb685d4ace",
   "metadata": {},
   "outputs": [],
   "source": [
    "import datetime\n",
    "import math\n",
    "from langchain_community.document_loaders import WebBaseLoader\n",
    "\n",
    "loader = WebBaseLoader(\n",
    "    web_paths=(\"https://en.wikipedia.org/wiki/2022_Ballon_d%27Or\",\n",
    "               \"https://en.wikipedia.org/wiki/2023_Ballon_d%27Or\",\n",
    "               \"https://en.wikipedia.org/wiki/2022%E2%80%9323_NBA_season\",\n",
    "               \"https://en.wikipedia.org/wiki/2021%E2%80%9322_NBA_season\",\n",
    "               \"https://en.wikipedia.org/wiki/2022%E2%80%9323_Premier_League\",\n",
    "               \"https://en.wikipedia.org/wiki/2021%E2%80%9322_Premier_League\",\n",
    "               \"https://en.wikipedia.org/wiki/2021%E2%80%9322_UEFA_Champions_League\",\n",
    "               \"https://en.wikipedia.org/wiki/2022%E2%80%9323_UEFA_Champions_League\",\n",
    "               \"https://en.wikipedia.org/wiki/2023_Cricket_World_Cup\")\n",
    ")\n",
    "\n",
    "docs = loader.load()\n",
    "\n",
    "# Rounding up or down based to nearest 1000\n",
    "def round_to_nearest_thousand(number):\n",
    "    return round(number / 1000) * 1000\n",
    "\n",
    "def print_summary(doc):\n",
    "    print(f\"Title: {doc.metadata[\"title\"]}\")\n",
    "    print(f\"Approximate Word Count: {doc.metadata[\"words\"]}\")\n",
    "\n",
    "# TODO: Add 'words' metadata\n",
    "\n"
   ]
  },
  {
   "cell_type": "code",
   "execution_count": null,
   "id": "702ec0af-0190-4b7d-90fe-21755dc21743",
   "metadata": {},
   "outputs": [],
   "source": [
    "from langchain_chroma import Chroma\n",
    "from langchain_openai import OpenAIEmbeddings\n",
    "from langchain_text_splitters import RecursiveCharacterTextSplitter\n",
    "\n",
    "text_splitter = RecursiveCharacterTextSplitter(chunk_size=1000, chunk_overlap=200)\n",
    "splits = text_splitter.split_documents(docs)\n",
    "\n",
    "database = Chroma.from_documents(documents=splits, embedding=OpenAIEmbeddings())\n",
    "retriever = database.as_retriever()"
   ]
  }
 ],
 "metadata": {
  "kernelspec": {
   "display_name": "Python 3 (ipykernel)",
   "language": "python",
   "name": "python3"
  },
  "language_info": {
   "codemirror_mode": {
    "name": "ipython",
    "version": 3
   },
   "file_extension": ".py",
   "mimetype": "text/x-python",
   "name": "python",
   "nbconvert_exporter": "python",
   "pygments_lexer": "ipython3",
   "version": "3.12.2"
  }
 },
 "nbformat": 4,
 "nbformat_minor": 5
}
